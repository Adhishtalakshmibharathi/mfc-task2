{
  "nbformat": 4,
  "nbformat_minor": 0,
  "metadata": {
    "colab": {
      "provenance": [],
      "authorship_tag": "ABX9TyNPWQVx+xmoJu5ibFAuPQPH",
      "include_colab_link": true
    },
    "kernelspec": {
      "name": "python3",
      "display_name": "Python 3"
    },
    "language_info": {
      "name": "python"
    }
  },
  "cells": [
    {
      "cell_type": "markdown",
      "metadata": {
        "id": "view-in-github",
        "colab_type": "text"
      },
      "source": [
        "<a href=\"https://colab.research.google.com/github/Adhishtalakshmibharathi/mfc-task2/blob/main/NM_project.ipynb\" target=\"_parent\"><img src=\"https://colab.research.google.com/assets/colab-badge.svg\" alt=\"Open In Colab\"/></a>"
      ]
    },
    {
      "cell_type": "code",
      "execution_count": null,
      "metadata": {
        "colab": {
          "base_uri": "https://localhost:8080/"
        },
        "id": "2DpHoDelV2qu",
        "outputId": "917fafd9-adfa-436f-cfe4-891f83d846c0"
      },
      "outputs": [
        {
          "output_type": "stream",
          "name": "stdout",
          "text": [
            "smsspamcollection.z     [ <=>                ] 198.65K  1.29MB/s    in 0.2s    \n",
            "Archive:  smsspamcollection.zip\n",
            "  inflating: SMSSpamCollection       \n",
            "  inflating: readme                  \n"
          ]
        },
        {
          "output_type": "stream",
          "name": "stderr",
          "text": [
            "[nltk_data] Downloading package stopwords to /root/nltk_data...\n",
            "[nltk_data]   Package stopwords is already up-to-date!\n",
            "[nltk_data] Downloading package punkt to /root/nltk_data...\n",
            "[nltk_data]   Package punkt is already up-to-date!\n",
            "[nltk_data] Downloading package wordnet to /root/nltk_data...\n",
            "[nltk_data]   Package wordnet is already up-to-date!\n",
            "[nltk_data] Downloading package punkt_tab to /root/nltk_data...\n",
            "[nltk_data]   Unzipping tokenizers/punkt_tab.zip.\n"
          ]
        },
        {
          "output_type": "stream",
          "name": "stdout",
          "text": [
            "Dataset shape: (5572, 3)\n",
            "  label                                            message  label_num\n",
            "0   ham  Go until jurong point, crazy.. Available only ...          0\n",
            "1   ham                      Ok lar... Joking wif u oni...          0\n",
            "2  spam  Free entry in 2 a wkly comp to win FA Cup fina...          1\n",
            "3   ham  U dun say so early hor... U c already then say...          0\n",
            "4   ham  Nah I don't think he goes to usf, he lives aro...          0\n",
            "label\n",
            "ham     4825\n",
            "spam     747\n",
            "Name: count, dtype: int64\n",
            "Message length — mean: 80.48994974874371 median: 62.0\n",
            "MultinomialNB Classification Report:\n",
            "              precision    recall  f1-score   support\n",
            "\n",
            "         ham       0.97      1.00      0.99       966\n",
            "        spam       1.00      0.81      0.89       149\n",
            "\n",
            "    accuracy                           0.97      1115\n",
            "   macro avg       0.99      0.90      0.94      1115\n",
            "weighted avg       0.97      0.97      0.97      1115\n",
            "\n",
            "Confusion Matrix:\n",
            "[[966   0]\n",
            " [ 29 120]]\n",
            "Logistic Regression Classification Report:\n",
            "              precision    recall  f1-score   support\n",
            "\n",
            "         ham       0.97      1.00      0.98       966\n",
            "        spam       1.00      0.78      0.88       149\n",
            "\n",
            "    accuracy                           0.97      1115\n",
            "   macro avg       0.98      0.89      0.93      1115\n",
            "weighted avg       0.97      0.97      0.97      1115\n",
            "\n",
            "Saved model and vectorizer to current directory.\n",
            "Free entry in 2 a wkly comp to win FA Cup final tkts 21st May 2005. Text FA to 87121 to receive entry question(std txt rate). -> ('spam', np.float64(0.9811104260763579))\n",
            "Hey, are we meeting today? -> ('ham', np.float64(0.018429061223725635))\n"
          ]
        }
      ],
      "source": [
        "# Cell 1: Set up environment (run in Colab)\n",
        "!pip install -q scikit-learn pandas matplotlib nltk joblib\n",
        "\n",
        "# Cell 2: Download dataset (UCI SMS Spam Collection)\n",
        "!wget -q --show-progress https://archive.ics.uci.edu/ml/machine-learning-databases/00228/smsspamcollection.zip\n",
        "\n",
        "\n",
        "!unzip -o smsspamcollection.zip\n",
        "\n",
        "# Cell 3: Imports and NLTK setup\n",
        "import pandas as pd\n",
        "import numpy as np\n",
        "import re\n",
        "import matplotlib.pyplot as plt\n",
        "from sklearn.model_selection import train_test_split, GridSearchCV\n",
        "from sklearn.feature_extraction.text import TfidfVectorizer\n",
        "from sklearn.naive_bayes import MultinomialNB\n",
        "from sklearn.linear_model import LogisticRegression\n",
        "from sklearn.metrics import classification_report, confusion_matrix, roc_auc_score\n",
        "import joblib\n",
        "import nltk\n",
        "nltk.download('stopwords')\n",
        "nltk.download('punkt')\n",
        "nltk.download('wordnet')\n",
        "nltk.download('punkt_tab') # Add this line to download the missing resource\n",
        "from nltk.corpus import stopwords\n",
        "from nltk.stem import WordNetLemmatizer\n",
        "\n",
        "# Cell 4: Load dataset\n",
        "df = pd.read_csv('SMSSpamCollection', sep='\\t', header=None, names=['label','message'])\n",
        "df['label_num'] = df['label'].map({'ham':0, 'spam':1})\n",
        "print('Dataset shape:', df.shape)\n",
        "print(df.head())\n",
        "\n",
        "# Cell 5: Basic EDA\n",
        "print(df['label'].value_counts())\n",
        "df['msg_len'] = df['message'].apply(len)\n",
        "print('Message length — mean:', df['msg_len'].mean(), 'median:', df['msg_len'].median())\n",
        "\n",
        "# Cell 6: Preprocessing function\n",
        "stop_words = set(stopwords.words('english'))\n",
        "lemmatizer = WordNetLemmatizer()\n",
        "def preprocess_text(text):\n",
        "    text = text.lower()\n",
        "    text = re.sub(r'http\\\\S+|www\\\\S+','', text)\n",
        "    text = re.sub(r'[^a-z0-9\\\\s]', ' ', text)\n",
        "    tokens = nltk.word_tokenize(text)\n",
        "    tokens = [t for t in tokens if t not in stop_words and t.isalpha()]\n",
        "    tokens = [lemmatizer.lemmatize(t) for t in tokens]\n",
        "    return ' '.join(tokens)\n",
        "\n",
        "df['clean'] = df['message'].apply(preprocess_text)\n",
        "\n",
        "# Cell 7: Train-test split and feature extraction\n",
        "X_train, X_test, y_train, y_test = train_test_split(df['clean'], df['label_num'], test_size=0.2, random_state=42, stratify=df['label_num'])\n",
        "tfidf = TfidfVectorizer(ngram_range=(1,2), max_features=5000)\n",
        "X_train_tfidf = tfidf.fit_transform(X_train)\n",
        "X_test_tfidf = tfidf.transform(X_test)\n",
        "\n",
        "# Cell 8: Train baseline model (MultinomialNB)\n",
        "mnb = MultinomialNB()\n",
        "mnb.fit(X_train_tfidf, y_train)\n",
        "y_pred = mnb.predict(X_test_tfidf)\n",
        "print('MultinomialNB Classification Report:')\n",
        "print(classification_report(y_test, y_pred, target_names=['ham','spam']))\n",
        "print('Confusion Matrix:')\n",
        "print(confusion_matrix(y_test, y_pred))\n",
        "\n",
        "# Cell 9: Train Logistic Regression for comparison\n",
        "lr = LogisticRegression(max_iter=1000)\n",
        "lr.fit(X_train_tfidf, y_train)\n",
        "y_pred_lr = lr.predict(X_test_tfidf)\n",
        "print('Logistic Regression Classification Report:')\n",
        "print(classification_report(y_test, y_pred_lr, target_names=['ham','spam']))\n",
        "\n",
        "# Cell 10: Save model and vectorizer\n",
        "\n",
        "\n",
        "joblib.dump(mnb, 'mnb_sms_spam_model.joblib')\n",
        "joblib.dump(tfidf, 'tfidf_vectorizer.joblib')\n",
        "print('Saved model and vectorizer to current directory.')\n",
        "\n",
        "# Cell 11: Inference example\n",
        "def predict_message(msg):\n",
        "    clean = preprocess_text(msg)\n",
        "    vect = tfidf.transform([clean])\n",
        "    prob = mnb.predict_proba(vect)[0][1]\n",
        "    label = 'spam' if prob > 0.5 else 'ham'\n",
        "    return label, prob\n",
        "\n",
        "examples = [\"Free entry in 2 a wkly comp to win FA Cup final tkts 21st May 2005. Text FA to 87121 to receive entry question(std txt rate).\",\n",
        "            \"Hey, are we meeting today?\"]\n",
        "for e in examples:\n",
        "    print(e, \"->\", predict_message(e))"
      ]
    }
  ]
}